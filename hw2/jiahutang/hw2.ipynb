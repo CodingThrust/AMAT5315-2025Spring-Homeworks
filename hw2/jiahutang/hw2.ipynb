{
 "cells": [
  {
   "cell_type": "markdown",
   "metadata": {},
   "source": [
    "# Homework 2\n",
    "\n",
    "## Task 1: Tropical Max-Plus Algebra"
   ]
  },
  {
   "cell_type": "markdown",
   "metadata": {},
   "source": [
    "# What are the outputs of the following expressions?"
   ]
  },
  {
   "cell_type": "code",
   "execution_count": 1,
   "metadata": {},
   "outputs": [
    {
     "name": "stdout",
     "output_type": "stream",
     "text": [
      "3.0ₜ\n",
      "0.0ₜ\n",
      "-Infₜ\n"
     ]
    }
   ],
   "source": [
    "using TropicalNumbers\n",
    "println(Tropical(1.0) + Tropical(3.0))\n",
    "println(one(Tropical{Float64}))\n",
    "println(zero(Tropical{Float64}))"
   ]
  },
  {
   "cell_type": "markdown",
   "metadata": {},
   "source": [
    "What is the type and supertype of Tropical(1.0)?\n"
   ]
  },
  {
   "cell_type": "code",
   "execution_count": 2,
   "metadata": {},
   "outputs": [
    {
     "name": "stdout",
     "output_type": "stream",
     "text": [
      "Tropical{Float64}\n",
      "AbstractSemiring\n",
      "Float64}\n",
      "AbstractSemiring\n"
     ]
    }
   ],
   "source": [
    "println(typeof(Tropical(1.0)))\n",
    "println(supertype(Tropical{Float64}))"
   ]
  },
  {
   "cell_type": "markdown",
   "metadata": {},
   "source": [
    "Is Tropical a concrete type or an abstract type?"
   ]
  },
  {
   "cell_type": "code",
   "execution_count": 3,
   "metadata": {},
   "outputs": [
    {
     "data": {
      "text/plain": [
       "false"
      ]
     },
     "metadata": {},
     "output_type": "display_data"
    }
   ],
   "source": [
    "isconcretetype(Tropical)"
   ]
  },
  {
   "cell_type": "code",
   "execution_count": 4,
   "metadata": {},
   "outputs": [
    {
     "data": {
      "text/plain": [
       "false"
      ]
     },
     "metadata": {},
     "output_type": "display_data"
    }
   ],
   "source": [
    "isabstracttype(Tropical)"
   ]
  },
  {
   "cell_type": "markdown",
   "metadata": {},
   "source": [
    "Is Tropical{Real} a concrete type or an abstract type?"
   ]
  },
  {
   "cell_type": "code",
   "execution_count": 5,
   "metadata": {},
   "outputs": [
    {
     "data": {
      "text/plain": [
       "true"
      ]
     },
     "metadata": {},
     "output_type": "display_data"
    }
   ],
   "source": [
    "isconcretetype(Tropical{Real})"
   ]
  },
  {
   "cell_type": "code",
   "execution_count": 6,
   "metadata": {},
   "outputs": [
    {
     "data": {
      "text/plain": [
       "false"
      ]
     },
     "metadata": {},
     "output_type": "display_data"
    }
   ],
   "source": [
    "isabstracttype(Tropical{Real})"
   ]
  },
  {
   "cell_type": "markdown",
   "metadata": {},
   "source": [
    "Benchmark and profile the performance of Tropical matrix multiplication:"
   ]
  },
  {
   "cell_type": "code",
   "execution_count": 9,
   "metadata": {},
   "outputs": [
    {
     "name": "stdout",
     "output_type": "stream",
     "text": [
      "  1.499 ms (3 allocations: 78.20 KiB)\n",
      " Count  Overhead File                    Line Function\n",
      " =====  ======== ====                    ==== ========\n",
      "    53         0 @Base/Base.jl            557 include(mod::Module, _path::Strin…\n",
      "    14        14 @Base/array.jl           994 setindex!\n",
      "    53         0 @Base/boot.jl            430 eval\n",
      "    53         0 @Base/client.jl          531 _start()\n",
      "    53         0 @Base/client.jl          323 exec_options(opts::Base.JLOptions)\n",
      "    53         0 @Base/essentials.jl     1055 #invokelatest#2\n",
      "    17        17 @Base/essentials.jl      796 ifelse\n",
      "    53         0 @Base/essentials.jl     1052 invokelatest\n",
      "    53         0 @Base/loading.jl        2794 _include(mapexpr::Function, mod::…\n",
      "    53         0 @Base/loading.jl        2734 include_string(mapexpr::typeof(id…\n",
      "    12         0 @Base/math.jl            839 max\n",
      "    22         0 @Base/promotion.jl       633 muladd\n",
      "    45         0 @Base/simdloop.jl         77 macro expansion\n",
      "    53         0 …Algebra/src/matmul.jl   114 *(A::Matrix{Tropical{Float64}}, B…\n",
      "    46         0 …Algebra/src/matmul.jl   895 _generic_matmatmul!(C::Matrix{Tro…\n",
      "    47         0 …Algebra/src/matmul.jl   287 _mul!\n",
      "    47         0 …Algebra/src/matmul.jl   868 generic_matmatmul!\n",
      "    45         0 …Algebra/src/matmul.jl   896 macro expansion\n",
      "    47         0 …Algebra/src/matmul.jl   253 mul!\n",
      "    47         0 …Algebra/src/matmul.jl   285 mul!\n",
      "    53         0 …rofile/src/Profile.jl    59 macro expansion\n",
      "    20         0 …c/tropical_maxplus.jl    67 +\n",
      "    53         0 …/notebook/notebook.jl    35 top-level scope\n",
      "    53         0 @JSONRPC/src/typed.jl     67 dispatch_msg(x::VSCodeServer.JSON…\n",
      "    53         0 …odeServer/src/repl.jl   276 withpath(f::VSCodeServer.var\"#217…\n",
      "    53         0 …src/serve_notebook.jl    24 (::VSCodeServer.var\"#217#218\"{VSC…\n",
      "    53         0 …src/serve_notebook.jl   147 serve_notebook(pipename::String, …\n",
      "    53         0 …src/serve_notebook.jl    13 notebook_runcell_request(conn::VS…\n",
      "    53         0 …src/serve_notebook.jl    81 kwcall(::@NamedTuple{error_handle…\n",
      "    53         0 …Njb2RlLXJlbW90ZQ==.jl    21 macro expansion\n",
      "    53         0 …Njb2RlLXJlbW90ZQ==.jl    21 top-level scope\n",
      "Total snapshots: 53. Utilization: 100% across all threads and tasks. Use the `groupby` kwarg to break down by thread and/or task.\n"
     ]
    }
   ],
   "source": [
    "using Random\n",
    "using BenchmarkTools\n",
    "using Profile\n",
    "\n",
    "function Base.rand(::Type{Tropical{T}}, rng::AbstractRNG) where T\n",
    "    return Tropical(rand(rng, T))  \n",
    "end\n",
    "\n",
    "function Base.rand(::Type{Tropical{T}}, dims::Tuple{Vararg{Int}}) where T\n",
    "    rng = Random.TaskLocalRNG()  # 使用默认的随机数生成器\n",
    "    # 生成一个一维数组，然后将其重塑为指定的维度\n",
    "    return reshape([rand(Tropical{T}, rng) for _ in 1:prod(dims)], dims)\n",
    "end\n",
    "\n",
    "\n",
    "A = rand(Tropical{Float64}, 100, 100)\n",
    "B = rand(Tropical{Float64}, 100, 100)\n",
    "\n",
    "\n",
    "@btime C = A * B # 2.066 ms\n",
    "@profile for i in 1:10; A * B; end\n",
    "Profile.print(format=:flat,mincount=10)\n"
   ]
  },
  {
   "cell_type": "markdown",
   "metadata": {},
   "source": [
    "# Task 2: Implement the the following semiring algebra over sets:"
   ]
  },
  {
   "cell_type": "code",
   "execution_count": 12,
   "metadata": {},
   "outputs": [],
   "source": [
    "struct SetSemiring\n",
    "    elements::Set{Int}\n",
    "    \n",
    "    # 外部构造函数：允许通过多个整数构造（如 SetSemiring(1, 2, 3)）\n",
    "    SetSemiring(args::Integer...) = new(Set(args))\n",
    "    \n",
    "    # 内部构造函数：直接接受 Set{Int} 类型（用于运算结果）\n",
    "    SetSemiring(s::Set{Int}) = new(s)\n",
    "end\n",
    "\n",
    "# 加法：集合的并集\n",
    "Base.:(+)(a::SetSemiring, b::SetSemiring) = SetSemiring(union(a.elements, b.elements))\n",
    "\n",
    "# 乘法：所有元素乘积的集合\n",
    "Base.:(*)(a::SetSemiring, b::SetSemiring) = SetSemiring(Set(x * y for x in a.elements for y in b.elements))\n",
    "\n",
    "# 零元：空集\n",
    "Base.zero(::Type{SetSemiring}) = SetSemiring(Set{Int}())\n",
    "\n",
    "# 单位元：包含1的集合\n",
    "Base.one(::Type{SetSemiring}) = SetSemiring(1)\n",
    "\n",
    "# 相等性判断\n",
    "Base.:(==)(a::SetSemiring, b::SetSemiring) = a.elements == b.elements\n",
    "\n",
    "# 自定义显示格式\n",
    "Base.show(io::IO, s::SetSemiring) = print(io, \"SetSemiring($(s.elements))\")"
   ]
  },
  {
   "cell_type": "markdown",
   "metadata": {},
   "source": [
    "test code like this"
   ]
  },
  {
   "cell_type": "code",
   "execution_count": 13,
   "metadata": {},
   "outputs": [
    {
     "name": "stdout",
     "output_type": "stream",
     "text": [
      "\u001b[0m\u001b[1mTest Summary:     | \u001b[22m\u001b[32m\u001b[1mPass  \u001b[22m\u001b[39m\u001b[36m\u001b[1mTotal  \u001b[22m\u001b[39m\u001b[0m\u001b[1mTime\u001b[22m\n",
      "SetSemiring Tests | \u001b[32m  11  \u001b[39m\u001b[36m   11  \u001b[39m\u001b[0m0.1s\n"
     ]
    },
    {
     "data": {
      "text/plain": [
       "Test.DefaultTestSet(\"SetSemiring Tests\", Any[], 11, false, false, true, 1.740988775826436e9, 1.740988775975418e9, false, \"/hpc2hdd/home/chuo657/work-tjh/AMAT5315/AMAT5315-2025Spring-Homeworks/hw2/JiahuTANG/jl_notebook_cell_df34fa98e69747e1a8f8a730347b8e2f_X33sdnNjb2RlLXJlbW90ZQ==.jl\")"
      ]
     },
     "metadata": {},
     "output_type": "display_data"
    }
   ],
   "source": [
    "using Test\n",
    "\n",
    "@testset \"SetSemiring Tests\" begin\n",
    "    # 加法测试\n",
    "    @test SetSemiring(2) + SetSemiring(5, 4) == SetSemiring(2, 4, 5)\n",
    "    @test SetSemiring(5, 4) + SetSemiring(2) == SetSemiring(2, 4, 5)\n",
    "    @test SetSemiring(2) + zero(SetSemiring) == SetSemiring(2)\n",
    "    \n",
    "    # 乘法测试\n",
    "    @test SetSemiring(2) * SetSemiring(5, 4) == SetSemiring(10, 8)\n",
    "    @test SetSemiring(5, 4) * SetSemiring(2) == SetSemiring(10, 8)\n",
    "    @test SetSemiring(2) * zero(SetSemiring) == zero(SetSemiring)\n",
    "    @test zero(SetSemiring) * SetSemiring(2) == zero(SetSemiring)\n",
    "    @test SetSemiring(2) * one(SetSemiring) == SetSemiring(2)\n",
    "    @test one(SetSemiring) * SetSemiring(2) == SetSemiring(2)\n",
    "    \n",
    "    # 零元和单位元测试\n",
    "    @test zero(SetSemiring) == SetSemiring()\n",
    "    @test one(SetSemiring) == SetSemiring(1)\n",
    "end"
   ]
  }
 ],
 "metadata": {
  "kernelspec": {
   "display_name": "Julia 1.11.3",
   "language": "julia",
   "name": "julia-1.11"
  },
  "language_info": {
   "file_extension": ".jl",
   "mimetype": "application/julia",
   "name": "julia",
   "version": "1.11.3"
  }
 },
 "nbformat": 4,
 "nbformat_minor": 2
}
